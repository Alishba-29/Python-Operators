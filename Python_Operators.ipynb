{
  "nbformat": 4,
  "nbformat_minor": 0,
  "metadata": {
    "colab": {
      "provenance": [],
      "authorship_tag": "ABX9TyM8y3z7XyZR90MDY5RRiKDD",
      "include_colab_link": true
    },
    "kernelspec": {
      "name": "python3",
      "display_name": "Python 3"
    },
    "language_info": {
      "name": "python"
    }
  },
  "cells": [
    {
      "cell_type": "markdown",
      "metadata": {
        "id": "view-in-github",
        "colab_type": "text"
      },
      "source": [
        "<a href=\"https://colab.research.google.com/github/Alishba-29/Python-Operators/blob/main/Python_Operators.ipynb\" target=\"_parent\"><img src=\"https://colab.research.google.com/assets/colab-badge.svg\" alt=\"Open In Colab\"/></a>"
      ]
    },
    {
      "cell_type": "markdown",
      "source": [
        "# Operators:\n",
        "\n",
        "Operators in Python are special symbols or keywords used to perform operations on variables and values. They are essential components that allow you to manipulate data in your program, such as performing arithmetic, comparisons, and logical operations.\n",
        "\n"
      ],
      "metadata": {
        "id": "nE5r8cor89ye"
      }
    },
    {
      "cell_type": "markdown",
      "source": [
        "# Types of Operators in Python:\n",
        "##1.  Arithmetic Operator:\n",
        " These are used to perform basic mathematical operations like addition, subtraction, multiplication, etc."
      ],
      "metadata": {
        "id": "FjpaMZwgFW_c"
      }
    },
    {
      "cell_type": "code",
      "source": [
        "# prompt: give m a table with border line which has  3 columns and has 7 rows first columns name is Operators  and second is Description and third is  Example.\n",
        "\n",
        "from IPython.display import HTML, display\n",
        "\n",
        "data = \"\"\"\n",
        "<table border>\n",
        "  <thead>\n",
        "    <tr>\n",
        "      <th>Operators</th>\n",
        "      <th>Description</th>\n",
        "      <th>Example</th>\n",
        "    </tr>\n",
        "  </thead>\n",
        "  <tbody>\n",
        "    <tr>\n",
        "      <td>+</td>\n",
        "      <td>Addition</td>\n",
        "      <td>x + y</td>\n",
        "    </tr>\n",
        "    <tr>\n",
        "      <td>-</td>\n",
        "      <td>Subtraction</td>\n",
        "      <td>x - y</td>\n",
        "    </tr>\n",
        "    <tr>\n",
        "      <td>*</td>\n",
        "      <td>Multiplication</td>\n",
        "      <td>x * y</td>\n",
        "    </tr>\n",
        "    <tr>\n",
        "      <td>/</td>\n",
        "      <td>Division</td>\n",
        "      <td>x / y</td>\n",
        "    </tr>\n",
        "    <tr>\n",
        "      <td>%</td>\n",
        "      <td>Modulus</td>\n",
        "      <td>x % y</td>\n",
        "    </tr>\n",
        "    <tr>\n",
        "      <td>**</td>\n",
        "      <td>Exponentiation</td>\n",
        "      <td>x ** y</td>\n",
        "    </tr>\n",
        "    <tr>\n",
        "      <td>//</td>\n",
        "      <td>Floor division</td>\n",
        "      <td>x // y</td>\n",
        "    </tr>\n",
        "  </tbody>\n",
        "</table>\n",
        "\"\"\"\n",
        "\n",
        "display(HTML(data))\n"
      ],
      "metadata": {
        "colab": {
          "base_uri": "https://localhost:8080/",
          "height": 202
        },
        "id": "ja01w_DLIiY5",
        "outputId": "9fd4ed7f-2fa0-4302-e386-436e66360b86"
      },
      "execution_count": null,
      "outputs": [
        {
          "output_type": "display_data",
          "data": {
            "text/plain": [
              "<IPython.core.display.HTML object>"
            ],
            "text/html": [
              "\n",
              "<table border>\n",
              "  <thead>\n",
              "    <tr>\n",
              "      <th>Operators</th>\n",
              "      <th>Description</th>\n",
              "      <th>Example</th>\n",
              "    </tr>\n",
              "  </thead>\n",
              "  <tbody>\n",
              "    <tr>\n",
              "      <td>+</td>\n",
              "      <td>Addition</td>\n",
              "      <td>x + y</td>\n",
              "    </tr>\n",
              "    <tr>\n",
              "      <td>-</td>\n",
              "      <td>Subtraction</td>\n",
              "      <td>x - y</td>\n",
              "    </tr>\n",
              "    <tr>\n",
              "      <td>*</td>\n",
              "      <td>Multiplication</td>\n",
              "      <td>x * y</td>\n",
              "    </tr>\n",
              "    <tr>\n",
              "      <td>/</td>\n",
              "      <td>Division</td>\n",
              "      <td>x / y</td>\n",
              "    </tr>\n",
              "    <tr>\n",
              "      <td>%</td>\n",
              "      <td>Modulus</td>\n",
              "      <td>x % y</td>\n",
              "    </tr>\n",
              "    <tr>\n",
              "      <td>**</td>\n",
              "      <td>Exponentiation</td>\n",
              "      <td>x ** y</td>\n",
              "    </tr>\n",
              "    <tr>\n",
              "      <td>//</td>\n",
              "      <td>Floor division</td>\n",
              "      <td>x // y</td>\n",
              "    </tr>\n",
              "  </tbody>\n",
              "</table>\n"
            ]
          },
          "metadata": {}
        }
      ]
    },
    {
      "cell_type": "markdown",
      "source": [
        "### 1. Addition (+)\n",
        "\n"
      ],
      "metadata": {
        "id": "EvLRIdHcMS9Y"
      }
    },
    {
      "cell_type": "code",
      "source": [
        "x = 10\n",
        "y = 15\n",
        "total = x + y\n",
        "print(total)"
      ],
      "metadata": {
        "colab": {
          "base_uri": "https://localhost:8080/"
        },
        "id": "FqsD-KbOMkYL",
        "outputId": "a13342e6-0ab0-4833-ecc7-a10672c3cf82"
      },
      "execution_count": null,
      "outputs": [
        {
          "output_type": "stream",
          "name": "stdout",
          "text": [
            "25\n"
          ]
        }
      ]
    },
    {
      "cell_type": "markdown",
      "source": [
        "### 2. Subtraction (-)"
      ],
      "metadata": {
        "id": "wLtu4ZjdM98Z"
      }
    },
    {
      "cell_type": "code",
      "source": [
        "x = 10\n",
        "y = 15\n",
        "total = x - y\n",
        "print(total)"
      ],
      "metadata": {
        "colab": {
          "base_uri": "https://localhost:8080/"
        },
        "id": "vU9FAqZYNJ32",
        "outputId": "f956de4d-c833-447a-9c21-61b7ffe47277"
      },
      "execution_count": null,
      "outputs": [
        {
          "output_type": "stream",
          "name": "stdout",
          "text": [
            "-5\n"
          ]
        }
      ]
    },
    {
      "cell_type": "markdown",
      "source": [
        "### 3. Multiplication (*)"
      ],
      "metadata": {
        "id": "P-q8RolNNTOJ"
      }
    },
    {
      "cell_type": "code",
      "source": [
        "x = 10\n",
        "y = 15\n",
        "total = x * y\n",
        "print(total)"
      ],
      "metadata": {
        "colab": {
          "base_uri": "https://localhost:8080/"
        },
        "id": "Sb2v5rUANY_N",
        "outputId": "c37581a4-2a9b-4bd5-fce3-65690f75d3a7"
      },
      "execution_count": null,
      "outputs": [
        {
          "output_type": "stream",
          "name": "stdout",
          "text": [
            "150\n"
          ]
        }
      ]
    },
    {
      "cell_type": "markdown",
      "source": [
        "### 4. Division (/)"
      ],
      "metadata": {
        "id": "-NN3_BjlNg3w"
      }
    },
    {
      "cell_type": "code",
      "source": [
        "x = 10\n",
        "y = 15\n",
        "total = x / y\n",
        "print(total)"
      ],
      "metadata": {
        "colab": {
          "base_uri": "https://localhost:8080/"
        },
        "id": "d_iaLY9vNlzh",
        "outputId": "ed4588d4-08d7-459d-de2b-efc6331340b2"
      },
      "execution_count": null,
      "outputs": [
        {
          "output_type": "stream",
          "name": "stdout",
          "text": [
            "0.6666666666666666\n"
          ]
        }
      ]
    },
    {
      "cell_type": "markdown",
      "source": [
        "### 5. Modulus (%)"
      ],
      "metadata": {
        "id": "V2j0ngl0NrZp"
      }
    },
    {
      "cell_type": "code",
      "source": [
        "x = 10\n",
        "y = 15\n",
        "total = x % y\n",
        "print(total)"
      ],
      "metadata": {
        "colab": {
          "base_uri": "https://localhost:8080/"
        },
        "id": "kI9yCv8RN14h",
        "outputId": "ccb4db31-8038-4b6d-83bc-093e9a7e0625"
      },
      "execution_count": null,
      "outputs": [
        {
          "output_type": "stream",
          "name": "stdout",
          "text": [
            "10\n"
          ]
        }
      ]
    },
    {
      "cell_type": "markdown",
      "source": [
        "### 6. Exponentiation (**)"
      ],
      "metadata": {
        "id": "BqDZuXOfN8Yn"
      }
    },
    {
      "cell_type": "code",
      "source": [
        "x = 10\n",
        "y = 15\n",
        "total = x ** y\n",
        "print(total)"
      ],
      "metadata": {
        "colab": {
          "base_uri": "https://localhost:8080/"
        },
        "id": "HpOxmceTOSGB",
        "outputId": "a7600478-d921-4273-b060-4ec0dacc48c3"
      },
      "execution_count": null,
      "outputs": [
        {
          "output_type": "stream",
          "name": "stdout",
          "text": [
            "1000000000000000\n"
          ]
        }
      ]
    },
    {
      "cell_type": "markdown",
      "source": [
        "### 7. Floor division (//)"
      ],
      "metadata": {
        "id": "dHVoISuuOjEV"
      }
    },
    {
      "cell_type": "code",
      "source": [
        "x = 10\n",
        "y = 15\n",
        "total = x // y\n",
        "print(total)"
      ],
      "metadata": {
        "colab": {
          "base_uri": "https://localhost:8080/"
        },
        "id": "Nh84KQ_rOrAN",
        "outputId": "ccdabeee-de23-4879-e33d-0dc0205bc103"
      },
      "execution_count": null,
      "outputs": [
        {
          "output_type": "stream",
          "name": "stdout",
          "text": [
            "0\n"
          ]
        }
      ]
    },
    {
      "cell_type": "markdown",
      "source": [
        "## 2. Comparison Operators:\n",
        "These are used to compare two values. The result of a comparison is either True or False."
      ],
      "metadata": {
        "id": "78hCF_zSPgkX"
      }
    },
    {
      "cell_type": "code",
      "source": [
        "# prompt: give m a table with border line which has  3 columns and has 7 rows first columns name is Operators  and second is Description and third is  Example.\n",
        "\n",
        "from IPython.display import HTML, display\n",
        "\n",
        "data = \"\"\"\n",
        "<table border>\n",
        "  <thead>\n",
        "    <tr>\n",
        "      <th>Operators</th>\n",
        "      <th>Description</th>\n",
        "      <th>Example</th>\n",
        "    </tr>\n",
        "  </thead>\n",
        "  <tbody>\n",
        "    <tr>\n",
        "      <td>==</td>\n",
        "      <td>Equal to</td>\n",
        "      <td>x == y</td>\n",
        "    </tr>\n",
        "    <tr>\n",
        "      <td>!=</td>\n",
        "      <td>Not equal to</td>\n",
        "      <td>x != y</td>\n",
        "    </tr>\n",
        "    <tr>\n",
        "      <td>></td>\n",
        "      <td>Greater than</td>\n",
        "      <td>x > y</td>\n",
        "    </tr>\n",
        "    <tr>\n",
        "      <td><</td>\n",
        "      <td>Less than</td>\n",
        "      <td>x < y</td>\n",
        "    </tr>\n",
        "    <tr>\n",
        "      <td>>=</td>\n",
        "      <td>Greater than or equal to</td>\n",
        "      <td>x >= y</td>\n",
        "    </tr>\n",
        "    <tr>\n",
        "      <td><=</td>\n",
        "      <td>Less than or equal to</td>\n",
        "      <td>x <= y</td>\n",
        "    </tr>\n",
        "  </tbody>\n",
        "</table>\n",
        "\"\"\"\n",
        "\n",
        "display(HTML(data))\n"
      ],
      "metadata": {
        "colab": {
          "base_uri": "https://localhost:8080/",
          "height": 179
        },
        "id": "0dXF8cp2P_x4",
        "outputId": "51ed521e-1b08-4da8-e2ea-4d5b4aa9d099"
      },
      "execution_count": null,
      "outputs": [
        {
          "output_type": "display_data",
          "data": {
            "text/plain": [
              "<IPython.core.display.HTML object>"
            ],
            "text/html": [
              "\n",
              "<table border>\n",
              "  <thead>\n",
              "    <tr>\n",
              "      <th>Operators</th>\n",
              "      <th>Description</th>\n",
              "      <th>Example</th>\n",
              "    </tr>\n",
              "  </thead>\n",
              "  <tbody>\n",
              "    <tr>\n",
              "      <td>==</td>\n",
              "      <td>Equal to</td>\n",
              "      <td>x == y</td>\n",
              "    </tr>\n",
              "    <tr>\n",
              "      <td>!=</td>\n",
              "      <td>Not equal to</td>\n",
              "      <td>x != y</td>\n",
              "    </tr>\n",
              "    <tr>\n",
              "      <td>></td>\n",
              "      <td>Greater than</td>\n",
              "      <td>x > y</td>\n",
              "    </tr>\n",
              "    <tr>\n",
              "      <td><</td>\n",
              "      <td>Less than</td>\n",
              "      <td>x < y</td>\n",
              "    </tr>\n",
              "    <tr>\n",
              "      <td>>=</td>\n",
              "      <td>Greater than or equal to</td>\n",
              "      <td>x >= y</td>\n",
              "    </tr>\n",
              "    <tr>\n",
              "      <td><=</td>\n",
              "      <td>Less than or equal to</td>\n",
              "      <td>x <= y</td>\n",
              "    </tr>\n",
              "  </tbody>\n",
              "</table>\n"
            ]
          },
          "metadata": {}
        }
      ]
    },
    {
      "cell_type": "markdown",
      "source": [
        "### 1. Equal to (==)\n",
        "The == operator checks if the values of two operands are equal. If they are, it returns True, otherwise, it returns False.\n",
        "\n"
      ],
      "metadata": {
        "id": "wnqA3zTQQfbD"
      }
    },
    {
      "cell_type": "code",
      "source": [
        "password = \"1234\"\n",
        "user_input = \"1234\"\n",
        "if password == user_input:\n",
        "    print(\"True\")\n",
        "else:\n",
        "    print(\"False\")"
      ],
      "metadata": {
        "colab": {
          "base_uri": "https://localhost:8080/"
        },
        "id": "7_e_M25imkQq",
        "outputId": "4f4c6b33-9775-429f-b2f3-ea3311ad5356"
      },
      "execution_count": null,
      "outputs": [
        {
          "output_type": "stream",
          "name": "stdout",
          "text": [
            "True\n"
          ]
        }
      ]
    },
    {
      "cell_type": "code",
      "source": [
        "# its another method\n",
        "a=23\n",
        "b=23\n",
        "print(a==b)"
      ],
      "metadata": {
        "colab": {
          "base_uri": "https://localhost:8080/"
        },
        "id": "kurfJv4JnQZS",
        "outputId": "ac33d5b1-67cf-4975-cc2a-16d051cd59ca"
      },
      "execution_count": null,
      "outputs": [
        {
          "output_type": "stream",
          "name": "stdout",
          "text": [
            "True\n"
          ]
        }
      ]
    },
    {
      "cell_type": "markdown",
      "source": [
        "### 2. Not Equal to (!=)\n",
        "The != operator checks if two operands are not equal. If they are not equal, it returns True, otherwise False."
      ],
      "metadata": {
        "id": "vXL_OJwYnj7b"
      }
    },
    {
      "cell_type": "code",
      "source": [
        "password = \"1234\"\n",
        "user_input = \"1234\"\n",
        "if password != user_input:\n",
        "    print(\"True\")\n",
        "else:\n",
        "    print(\"False\")"
      ],
      "metadata": {
        "colab": {
          "base_uri": "https://localhost:8080/"
        },
        "id": "G8IUnfgHoLGs",
        "outputId": "02e41023-e153-47e6-d9bf-0c708ffc54a1"
      },
      "execution_count": null,
      "outputs": [
        {
          "output_type": "stream",
          "name": "stdout",
          "text": [
            "False\n"
          ]
        }
      ]
    },
    {
      "cell_type": "code",
      "source": [
        "# its another method\n",
        "a=345\n",
        "b=345\n",
        "print(a!=b)"
      ],
      "metadata": {
        "colab": {
          "base_uri": "https://localhost:8080/"
        },
        "id": "PqQV78t7oc1F",
        "outputId": "2e108d4c-f5f0-4b4d-8b2c-658180c43088"
      },
      "execution_count": null,
      "outputs": [
        {
          "output_type": "stream",
          "name": "stdout",
          "text": [
            "False\n"
          ]
        }
      ]
    },
    {
      "cell_type": "markdown",
      "source": [
        "### 3. Greater than (>)\n",
        "The > operator checks if the value on the left is greater than the value on the right. If so, it returns True, otherwise False."
      ],
      "metadata": {
        "id": "1t05Yl4WoyV9"
      }
    },
    {
      "cell_type": "code",
      "source": [
        "score = 85\n",
        "if score > 60:\n",
        "    print(\"Pass\")\n",
        "else:\n",
        "    print(\"Fail\")"
      ],
      "metadata": {
        "colab": {
          "base_uri": "https://localhost:8080/"
        },
        "id": "c9903IqcpLoh",
        "outputId": "f0b8c519-77d8-495a-df4c-5bfe83f7440a"
      },
      "execution_count": null,
      "outputs": [
        {
          "output_type": "stream",
          "name": "stdout",
          "text": [
            "Pass\n"
          ]
        }
      ]
    },
    {
      "cell_type": "markdown",
      "source": [
        "### 4. Less than (<)\n",
        "The < operator checks if the value on the left is less than the value on the right. If true, it returns True, otherwise False."
      ],
      "metadata": {
        "id": "Aj1swad6qUvs"
      }
    },
    {
      "cell_type": "code",
      "source": [
        "score = 85\n",
        "if score < 60:\n",
        "    print(\"Pass\")\n",
        "else:\n",
        "    print(\"Fail\")"
      ],
      "metadata": {
        "colab": {
          "base_uri": "https://localhost:8080/"
        },
        "id": "YcTy0nB8q6Ys",
        "outputId": "744a810a-44e6-4049-d067-2891aa59beee"
      },
      "execution_count": null,
      "outputs": [
        {
          "output_type": "stream",
          "name": "stdout",
          "text": [
            "Fail\n"
          ]
        }
      ]
    },
    {
      "cell_type": "markdown",
      "source": [
        "### 5. Greater than or equal to (>=)\n",
        " The >= operator checks if the value on the left is greater than or equal to the value on the right. It returns True if either condition is true, otherwise False."
      ],
      "metadata": {
        "id": "eENp6w0ArSPE"
      }
    },
    {
      "cell_type": "code",
      "source": [
        "temperature = 32\n",
        "if temperature >= 30:\n",
        "    print(\"It's hot outside!\")\n",
        "else:\n",
        "    print(\"It's cool outside.\")"
      ],
      "metadata": {
        "colab": {
          "base_uri": "https://localhost:8080/"
        },
        "id": "K2wXmta1rvX-",
        "outputId": "58774b71-bc79-44f0-9d32-82c14e037c47"
      },
      "execution_count": null,
      "outputs": [
        {
          "output_type": "stream",
          "name": "stdout",
          "text": [
            "It's hot outside!\n"
          ]
        }
      ]
    },
    {
      "cell_type": "markdown",
      "source": [
        "### 6. Less than or equal to (<=)\n",
        " The <= operator checks if the value on the left is less than or equal to the value on the right. It returns True if the condition is met, otherwise False."
      ],
      "metadata": {
        "id": "QWmbDsBlsAjX"
      }
    },
    {
      "cell_type": "code",
      "source": [
        "stock_quantity = 15\n",
        "if stock_quantity <= 20:\n",
        "    print(\"Order more stock\")\n",
        "else:\n",
        "    print(\"Stock level is sufficient\")"
      ],
      "metadata": {
        "colab": {
          "base_uri": "https://localhost:8080/"
        },
        "id": "NdenooUPsMOB",
        "outputId": "0fea2fd5-40ca-43fe-d534-755a5d1e6984"
      },
      "execution_count": null,
      "outputs": [
        {
          "output_type": "stream",
          "name": "stdout",
          "text": [
            "Order more stock\n"
          ]
        }
      ]
    },
    {
      "cell_type": "markdown",
      "source": [
        "# 3. Assignment Operators:\n",
        "These are used to assign values to variables."
      ],
      "metadata": {
        "id": "_mavSNjMtHfN"
      }
    },
    {
      "cell_type": "code",
      "source": [
        "# prompt: give m a table with border line which has  3 columns and has 8 rows first columns name is Operators  and second is Description and third is  Example.\n",
        "\n",
        "from IPython.display import HTML, display\n",
        "\n",
        "data = \"\"\"\n",
        "<table border>\n",
        "  <thead>\n",
        "    <tr>\n",
        "      <th>Operators</th>\n",
        "      <th>Description</th>\n",
        "      <th>Example</th>\n",
        "    </tr>\n",
        "  </thead>\n",
        "  <tbody>\n",
        "    <tr>\n",
        "      <td>=</td>\n",
        "      <td>Assign value</td>\n",
        "      <td>x = 5</td>\n",
        "    </tr>\n",
        "    <tr>\n",
        "      <td>+=</td>\n",
        "      <td>Add and assign</td>\n",
        "      <td>x += 5  (x = x + 5)</td>\n",
        "    </tr>\n",
        "    <tr>\n",
        "      <td>-=</td>\n",
        "      <td>Subtract and assign</td>\n",
        "      <td>x -= 5  (x = x - 5)</td>\n",
        "    </tr>\n",
        "    <tr>\n",
        "      <td>*=</td>\n",
        "      <td>Multiply and assign</td>\n",
        "      <td>x *= 5  (x = x * 5)</td>\n",
        "    </tr>\n",
        "    <tr>\n",
        "      <td>/=</td>\n",
        "      <td>Divide and assign</td>\n",
        "      <td>x /= 5  (x = x / 5)</td>\n",
        "    </tr>\n",
        "    <tr>\n",
        "      <td>%=</td>\n",
        "      <td>Modulus and assign</td>\n",
        "      <td>x %= 5  (x = x % 5)</td>\n",
        "    </tr>\n",
        "    <tr>\n",
        "      <td>**=</td>\n",
        "      <td>Exponent and assign</td>\n",
        "      <td>x **= 5  (x = x ** 5)</td>\n",
        "    </tr>\n",
        "    <tr>\n",
        "      <td>//=</td>\n",
        "      <td>Floor divide and assign</td>\n",
        "      <td>x //= 5  (x = x // 5)</td>\n",
        "    </tr>\n",
        "  </tbody>\n",
        "</table>\n",
        "\"\"\"\n",
        "\n",
        "display(HTML(data))\n"
      ],
      "metadata": {
        "colab": {
          "base_uri": "https://localhost:8080/",
          "height": 225
        },
        "id": "tNlN8ywHti-z",
        "outputId": "1e4c675d-0165-4d75-9dad-5c79aa7b31bb"
      },
      "execution_count": null,
      "outputs": [
        {
          "output_type": "display_data",
          "data": {
            "text/plain": [
              "<IPython.core.display.HTML object>"
            ],
            "text/html": [
              "\n",
              "<table border>\n",
              "  <thead>\n",
              "    <tr>\n",
              "      <th>Operators</th>\n",
              "      <th>Description</th>\n",
              "      <th>Example</th>\n",
              "    </tr>\n",
              "  </thead>\n",
              "  <tbody>\n",
              "    <tr>\n",
              "      <td>=</td>\n",
              "      <td>Assign value</td>\n",
              "      <td>x = 5</td>\n",
              "    </tr>\n",
              "    <tr>\n",
              "      <td>+=</td>\n",
              "      <td>Add and assign</td>\n",
              "      <td>x += 5  (x = x + 5)</td>\n",
              "    </tr>\n",
              "    <tr>\n",
              "      <td>-=</td>\n",
              "      <td>Subtract and assign</td>\n",
              "      <td>x -= 5  (x = x - 5)</td>\n",
              "    </tr>\n",
              "    <tr>\n",
              "      <td>*=</td>\n",
              "      <td>Multiply and assign</td>\n",
              "      <td>x *= 5  (x = x * 5)</td>\n",
              "    </tr>\n",
              "    <tr>\n",
              "      <td>/=</td>\n",
              "      <td>Divide and assign</td>\n",
              "      <td>x /= 5  (x = x / 5)</td>\n",
              "    </tr>\n",
              "    <tr>\n",
              "      <td>%=</td>\n",
              "      <td>Modulus and assign</td>\n",
              "      <td>x %= 5  (x = x % 5)</td>\n",
              "    </tr>\n",
              "    <tr>\n",
              "      <td>**=</td>\n",
              "      <td>Exponent and assign</td>\n",
              "      <td>x **= 5  (x = x ** 5)</td>\n",
              "    </tr>\n",
              "    <tr>\n",
              "      <td>//=</td>\n",
              "      <td>Floor divide and assign</td>\n",
              "      <td>x //= 5  (x = x // 5)</td>\n",
              "    </tr>\n",
              "  </tbody>\n",
              "</table>\n"
            ]
          },
          "metadata": {}
        }
      ]
    },
    {
      "cell_type": "markdown",
      "source": [
        "### 1. Assigns the value (=)\n",
        "The = operator assigns a value to a variable. It simply takes the value on the right side and stores it in the variable on the left side."
      ],
      "metadata": {
        "id": "7azwB5jxuZDI"
      }
    },
    {
      "cell_type": "code",
      "source": [
        "x = 5\n",
        "print(x)"
      ],
      "metadata": {
        "colab": {
          "base_uri": "https://localhost:8080/"
        },
        "id": "O4bW8MwjulKW",
        "outputId": "0d82a023-4a38-42e6-aa6a-8225742d81a8"
      },
      "execution_count": null,
      "outputs": [
        {
          "output_type": "stream",
          "name": "stdout",
          "text": [
            "5\n"
          ]
        }
      ]
    },
    {
      "cell_type": "markdown",
      "source": [
        "### 2. Add and assign (+=)\n",
        "The += operator adds the right operand to the left operand and assigns the result back to the left operand."
      ],
      "metadata": {
        "id": "x6fZfEVVut5v"
      }
    },
    {
      "cell_type": "code",
      "source": [
        "score = 20\n",
        "score += 10\n",
        "print(\"Score:\", score)"
      ],
      "metadata": {
        "colab": {
          "base_uri": "https://localhost:8080/"
        },
        "id": "v7eK816lu-Ri",
        "outputId": "e32e6a3f-6c67-4057-8c02-057ba02ff19d"
      },
      "execution_count": null,
      "outputs": [
        {
          "output_type": "stream",
          "name": "stdout",
          "text": [
            "Score: 30\n"
          ]
        }
      ]
    },
    {
      "cell_type": "markdown",
      "source": [
        "### 3. Subtract and assign (-=)\n",
        " The += operator adds the right operand to the left operand and assigns the result back to the left operand."
      ],
      "metadata": {
        "id": "aewRxu4ovvp3"
      }
    },
    {
      "cell_type": "code",
      "source": [
        "balance = 100\n",
        "balance -= 20\n",
        "print(\"Remaining Balance:\", balance)"
      ],
      "metadata": {
        "colab": {
          "base_uri": "https://localhost:8080/"
        },
        "id": "faHgvrwbwjWK",
        "outputId": "bcf95f62-02a3-4215-834a-4deaee82fdaf"
      },
      "execution_count": null,
      "outputs": [
        {
          "output_type": "stream",
          "name": "stdout",
          "text": [
            "Remaining Balance: 80\n"
          ]
        }
      ]
    },
    {
      "cell_type": "markdown",
      "source": [
        "### 4. Multiply and Assign (*=)\n",
        "The *= operator multiplies the left operand by the right operand and assigns the result back to the left operand."
      ],
      "metadata": {
        "id": "5qHcJ1SQw8_Z"
      }
    },
    {
      "cell_type": "code",
      "source": [
        "price = 50\n",
        "discount_multiplier = 5\n",
        "price *= discount_multiplier\n",
        "print(\"Discounted Price:\", price)"
      ],
      "metadata": {
        "colab": {
          "base_uri": "https://localhost:8080/"
        },
        "id": "FQiRxWdfxFjD",
        "outputId": "9d9785a6-563d-4124-ae1e-5fb9e543d319"
      },
      "execution_count": null,
      "outputs": [
        {
          "output_type": "stream",
          "name": "stdout",
          "text": [
            "Discounted Price: 250\n"
          ]
        }
      ]
    },
    {
      "cell_type": "markdown",
      "source": [
        "### 5. Divide and Assign (/=)\n",
        "The /= operator divides the left operand by the right operand and assigns the result back to the left operand."
      ],
      "metadata": {
        "id": "QcC0ptr9xv6z"
      }
    },
    {
      "cell_type": "code",
      "source": [
        "total_marks = 450\n",
        "subjects = 5\n",
        "total_marks /= subjects\n",
        "print(\"Average Marks:\", total_marks)"
      ],
      "metadata": {
        "colab": {
          "base_uri": "https://localhost:8080/"
        },
        "id": "ERmnLLrYx9cJ",
        "outputId": "fbb314a0-ea9a-4071-dc7d-849d09827784"
      },
      "execution_count": null,
      "outputs": [
        {
          "output_type": "stream",
          "name": "stdout",
          "text": [
            "Average Marks: 90.0\n"
          ]
        }
      ]
    },
    {
      "cell_type": "markdown",
      "source": [
        "### 6. Modulus and Assign (%=)\n",
        "The %= operator calculates the modulus of the left operand by the right operand (i.e., the remainder when dividing) and assigns the result back to the left operand."
      ],
      "metadata": {
        "id": "ZUS6Sf9vyjjB"
      }
    },
    {
      "cell_type": "code",
      "source": [
        "seconds = 125\n",
        "seconds %= 120\n",
        "print(\"Remaining seconds:\", seconds)"
      ],
      "metadata": {
        "colab": {
          "base_uri": "https://localhost:8080/"
        },
        "id": "F48hok2SyxhF",
        "outputId": "ce719621-de59-4582-cc2a-26630cb9f960"
      },
      "execution_count": null,
      "outputs": [
        {
          "output_type": "stream",
          "name": "stdout",
          "text": [
            "Remaining seconds: 5\n"
          ]
        }
      ]
    },
    {
      "cell_type": "markdown",
      "source": [
        "### 7. Exponent and Assign (**=)\n",
        " The **= operator raises the left operand to the power of the right operand and assigns the result back to the left operand."
      ],
      "metadata": {
        "id": "yIJsTSaMzLdg"
      }
    },
    {
      "cell_type": "code",
      "source": [
        "base = 5\n",
        "exponent = 2\n",
        "base **= exponent\n",
        "print(\"Result:\", base)"
      ],
      "metadata": {
        "colab": {
          "base_uri": "https://localhost:8080/"
        },
        "id": "iXLopdYnzaUP",
        "outputId": "f02fb1a0-564c-480a-ea3f-759a27e4e5e5"
      },
      "execution_count": null,
      "outputs": [
        {
          "output_type": "stream",
          "name": "stdout",
          "text": [
            "Result: 25\n"
          ]
        }
      ]
    },
    {
      "cell_type": "markdown",
      "source": [
        "### 8. Floor Division and Assign (//=)\n",
        " The //= operator performs floor division on the left operand by the right operand (i.e., it divides and rounds down to the nearest whole number) and assigns the result back to the left operand."
      ],
      "metadata": {
        "id": "x1Nr-D8yzpuH"
      }
    },
    {
      "cell_type": "code",
      "source": [
        "total_pages = 103\n",
        "pages_per_day = 20\n",
        "days_needed = total_pages // pages_per_day\n",
        "print(\"Days needed:\", days_needed)"
      ],
      "metadata": {
        "colab": {
          "base_uri": "https://localhost:8080/"
        },
        "id": "RQhtHIYwzy2n",
        "outputId": "ce1e7aba-f434-4db1-d715-17f25632ccc7"
      },
      "execution_count": null,
      "outputs": [
        {
          "output_type": "stream",
          "name": "stdout",
          "text": [
            "Days needed: 5\n"
          ]
        }
      ]
    },
    {
      "cell_type": "markdown",
      "source": [
        "# 4. Logical Operators:\n",
        " These are used to perform logical operations like AND, OR, and NOT."
      ],
      "metadata": {
        "id": "1YzFo3BF0sRg"
      }
    },
    {
      "cell_type": "code",
      "source": [
        "# prompt: give m a table with border line which has  3 columns and has 3 rows first columns name is Operators  and second is Description and third is  Example.\n",
        "\n",
        "from IPython.display import HTML, display\n",
        "\n",
        "data = \"\"\"\n",
        "<table border>\n",
        "  <thead>\n",
        "    <tr>\n",
        "      <th>Operators</th>\n",
        "      <th>Description</th>\n",
        "      <th>Example</th>\n",
        "    </tr>\n",
        "  </thead>\n",
        "  <tbody>\n",
        "    <tr>\n",
        "      <td>and</td>\n",
        "      <td>Returns True if both operands are True</td>\n",
        "      <td>x and y</td>\n",
        "    </tr>\n",
        "    <tr>\n",
        "      <td>or</td>\n",
        "      <td>Returns True if at least one operand is True</td>\n",
        "      <td>x or y</td>\n",
        "    </tr>\n",
        "    <tr>\n",
        "      <td>not</td>\n",
        "      <td>Returns the opposite of the operand's Boolean value</td>\n",
        "      <td>not x</td>\n",
        "    </tr>\n",
        "  </tbody>\n",
        "</table>\n",
        "\"\"\"\n",
        "\n",
        "display(HTML(data))\n"
      ],
      "metadata": {
        "colab": {
          "base_uri": "https://localhost:8080/",
          "height": 111
        },
        "id": "yXfNPnbuE-YY",
        "outputId": "18b3c42d-97ad-426c-f235-c16b14b03e94"
      },
      "execution_count": null,
      "outputs": [
        {
          "output_type": "display_data",
          "data": {
            "text/plain": [
              "<IPython.core.display.HTML object>"
            ],
            "text/html": [
              "\n",
              "<table border>\n",
              "  <thead>\n",
              "    <tr>\n",
              "      <th>Operators</th>\n",
              "      <th>Description</th>\n",
              "      <th>Example</th>\n",
              "    </tr>\n",
              "  </thead>\n",
              "  <tbody>\n",
              "    <tr>\n",
              "      <td>and</td>\n",
              "      <td>Returns True if both operands are True</td>\n",
              "      <td>x and y</td>\n",
              "    </tr>\n",
              "    <tr>\n",
              "      <td>or</td>\n",
              "      <td>Returns True if at least one operand is True</td>\n",
              "      <td>x or y</td>\n",
              "    </tr>\n",
              "    <tr>\n",
              "      <td>not</td>\n",
              "      <td>Returns the opposite of the operand's Boolean value</td>\n",
              "      <td>not x</td>\n",
              "    </tr>\n",
              "  </tbody>\n",
              "</table>\n"
            ]
          },
          "metadata": {}
        }
      ]
    },
    {
      "cell_type": "markdown",
      "source": [
        "### 1. and Operator\n",
        "The and operator returns True if both operands (conditions) are True. If either of the operands is False, the result is False."
      ],
      "metadata": {
        "id": "nO_CQEES1vaQ"
      }
    },
    {
      "cell_type": "code",
      "source": [
        "x = 5\n",
        "result = x > 1 and x < 6\n",
        "print(result)"
      ],
      "metadata": {
        "colab": {
          "base_uri": "https://localhost:8080/"
        },
        "id": "qazwP81K17hV",
        "outputId": "8e80d515-1e5f-4b89-9a1a-c8167a29f913"
      },
      "execution_count": null,
      "outputs": [
        {
          "output_type": "stream",
          "name": "stdout",
          "text": [
            "True\n"
          ]
        }
      ]
    },
    {
      "cell_type": "code",
      "source": [
        "x = 7\n",
        "if x > 5 and x < 10:\n",
        "    print(\"x is between 5 and 10\")\n",
        "else:\n",
        "    print(\"x is outside the range\")"
      ],
      "metadata": {
        "colab": {
          "base_uri": "https://localhost:8080/"
        },
        "id": "UOMcpOO64wpt",
        "outputId": "45945969-3eda-4d29-f3ac-d513f9774067"
      },
      "execution_count": null,
      "outputs": [
        {
          "output_type": "stream",
          "name": "stdout",
          "text": [
            "x is between 5 and 10\n"
          ]
        }
      ]
    },
    {
      "cell_type": "markdown",
      "source": [
        "### 2. or Operator\n",
        "The or operator returns True if either of the operands is True. If both operands are False, the result is False."
      ],
      "metadata": {
        "id": "lYFZ9CJX2_D7"
      }
    },
    {
      "cell_type": "code",
      "source": [
        "x = 5\n",
        "result = x > 10 or x < 3\n",
        "print(result)"
      ],
      "metadata": {
        "colab": {
          "base_uri": "https://localhost:8080/"
        },
        "id": "rWT__xnm3RhN",
        "outputId": "8d4251b4-6e5c-4200-a6a4-2b5b3f274a3a"
      },
      "execution_count": null,
      "outputs": [
        {
          "output_type": "stream",
          "name": "stdout",
          "text": [
            "False\n"
          ]
        }
      ]
    },
    {
      "cell_type": "code",
      "source": [
        "x = 3\n",
        "if x < 5 or x > 10:\n",
        "    print(\"x is outside the range of 5 to 10\")\n",
        "else:\n",
        "    print(\"x is inside the range\")"
      ],
      "metadata": {
        "colab": {
          "base_uri": "https://localhost:8080/"
        },
        "id": "rDB3JEsK5D0q",
        "outputId": "0f3a2b92-8362-4607-ecde-4c1d258f9497"
      },
      "execution_count": null,
      "outputs": [
        {
          "output_type": "stream",
          "name": "stdout",
          "text": [
            "x is outside the range of 5 to 10\n"
          ]
        }
      ]
    },
    {
      "cell_type": "markdown",
      "source": [
        "### 3. not Operator\n",
        "The not operator reverses the result of a condition. If the condition is True, it becomes False, and if the condition is False, it becomes True.\n",
        "\n",
        "\n",
        "\n"
      ],
      "metadata": {
        "id": "pc8FRXN73_6p"
      }
    },
    {
      "cell_type": "code",
      "source": [
        "x = 5\n",
        "result = not(x > 2)\n",
        "print(result)"
      ],
      "metadata": {
        "colab": {
          "base_uri": "https://localhost:8080/"
        },
        "id": "J4j9UX-Y4P3q",
        "outputId": "5f67fcfd-075a-470d-d57b-d886c86d3fbb"
      },
      "execution_count": null,
      "outputs": [
        {
          "output_type": "stream",
          "name": "stdout",
          "text": [
            "False\n"
          ]
        }
      ]
    },
    {
      "cell_type": "code",
      "source": [
        "is_raining = False\n",
        "if not is_raining:\n",
        "    print(\"It's not raining\")\n",
        "else:\n",
        "    print(\"It's raining\")"
      ],
      "metadata": {
        "colab": {
          "base_uri": "https://localhost:8080/"
        },
        "id": "xz819WTM5aa9",
        "outputId": "d22fcede-d746-4d89-88a8-3112d7dd3750"
      },
      "execution_count": null,
      "outputs": [
        {
          "output_type": "stream",
          "name": "stdout",
          "text": [
            "It's not raining\n"
          ]
        }
      ]
    },
    {
      "cell_type": "markdown",
      "source": [
        "# 5. Identity Operators:\n",
        "The identity operators in Python, is and is not, are used to compare the identity of two objects, rather than their values. They help determine whether two variables refer to the same object in memory."
      ],
      "metadata": {
        "id": "PjHXMucy56aA"
      }
    },
    {
      "cell_type": "code",
      "source": [
        "# prompt: give m a table with border line which has  3 columns and has 2 rows first columns name is Operators  and second is Description and third is  Example.\n",
        "\n",
        "from IPython.display import HTML, display\n",
        "\n",
        "data = \"\"\"\n",
        "<table border>\n",
        "  <thead>\n",
        "    <tr>\n",
        "      <th>Operators</th>\n",
        "      <th>Description</th>\n",
        "      <th>Example</th>\n",
        "    </tr>\n",
        "  </thead>\n",
        "  <tbody>\n",
        "    <tr>\n",
        "      <td>is</td>\n",
        "      <td>True if both variables are the same object</td>\n",
        "      <td>x is y</td>\n",
        "    </tr>\n",
        "    <tr>\n",
        "      <td>is not</td>\n",
        "      <td>True if both variables are not the same object</td>\n",
        "      <td>x is not y</td>\n",
        "    </tr>\n",
        "  </tbody>\n",
        "</table>\n",
        "\"\"\"\n",
        "\n",
        "display(HTML(data))\n"
      ],
      "metadata": {
        "id": "RBM0HcZfFLIe",
        "outputId": "6c623e97-a10d-45fa-c4d3-13429b7d3f7d",
        "colab": {
          "base_uri": "https://localhost:8080/",
          "height": 88
        }
      },
      "execution_count": null,
      "outputs": [
        {
          "output_type": "display_data",
          "data": {
            "text/plain": [
              "<IPython.core.display.HTML object>"
            ],
            "text/html": [
              "\n",
              "<table border>\n",
              "  <thead>\n",
              "    <tr>\n",
              "      <th>Operators</th>\n",
              "      <th>Description</th>\n",
              "      <th>Example</th>\n",
              "    </tr>\n",
              "  </thead>\n",
              "  <tbody>\n",
              "    <tr>\n",
              "      <td>is</td>\n",
              "      <td>True if both variables are the same object</td>\n",
              "      <td>x is y</td>\n",
              "    </tr>\n",
              "    <tr>\n",
              "      <td>is not</td>\n",
              "      <td>True if both variables are not the same object</td>\n",
              "      <td>x is not y</td>\n",
              "    </tr>\n",
              "  </tbody>\n",
              "</table>\n"
            ]
          },
          "metadata": {}
        }
      ]
    },
    {
      "cell_type": "markdown",
      "source": [
        "### 1. is Operator\n",
        "The is operator checks whether two variables refer to the same object in memory. It returns True if the two variables point to the same object, and False if they point to different objects."
      ],
      "metadata": {
        "id": "A_SEn9ho6ip6"
      }
    },
    {
      "cell_type": "code",
      "source": [
        "x = [1, 2, 3]\n",
        "x = [1, 2, 3]\n",
        "print(x is x)"
      ],
      "metadata": {
        "colab": {
          "base_uri": "https://localhost:8080/"
        },
        "id": "oNXjI-aQ6tEd",
        "outputId": "69ff8ab6-03c9-4ce3-ff17-ad5d02aa492a"
      },
      "execution_count": null,
      "outputs": [
        {
          "output_type": "stream",
          "name": "stdout",
          "text": [
            "True\n"
          ]
        }
      ]
    },
    {
      "cell_type": "markdown",
      "source": [
        "### 2. is not Operator\n",
        "The is not operator is the opposite of is. It checks whether two variables refer to different objects in memory. It returns True if they do not point to the same object and False if they refer to the same object."
      ],
      "metadata": {
        "id": "zElRSxgT7Sg9"
      }
    },
    {
      "cell_type": "code",
      "source": [
        "a = [1, 2]\n",
        "b = [1, 2]\n",
        "print(a is not b)"
      ],
      "metadata": {
        "colab": {
          "base_uri": "https://localhost:8080/"
        },
        "id": "9O4xaeRm7dkm",
        "outputId": "869c46d2-88bb-413a-ba6c-fb96fea2c883"
      },
      "execution_count": null,
      "outputs": [
        {
          "output_type": "stream",
          "name": "stdout",
          "text": [
            "True\n"
          ]
        }
      ]
    },
    {
      "cell_type": "markdown",
      "source": [
        "# 6. Membership Operators:\n",
        "The membership operators in Python, in and not in, are used to check if a particular value exists within a sequence such as a list, tuple, string, set, or dictionary. These operators are essential for efficiently determining the presence or absence of an item in a sequence."
      ],
      "metadata": {
        "id": "0Xggo3Ve8YnC"
      }
    },
    {
      "cell_type": "code",
      "source": [
        "# prompt: give me a table which has 3 columns and  2 rows first coloumns name is Operators second columns name is Description and third columns name is Example\n",
        "\n",
        "from IPython.display import HTML, display\n",
        "\n",
        "data = \"\"\"\n",
        "<table border>\n",
        "  <thead>\n",
        "    <tr>\n",
        "      <th>Operators</th>\n",
        "      <th>Description</th>\n",
        "      <th>Example</th>\n",
        "    </tr>\n",
        "  </thead>\n",
        "  <tbody>\n",
        "    <tr>\n",
        "      <td>in</td>\n",
        "      <td>Returns True if a value exists in a sequence</td>\n",
        "      <td>x in y</td>\n",
        "    </tr>\n",
        "    <tr>\n",
        "      <td>not in</td>\n",
        "      <td>Returns True if a value does not exist in a sequence</td>\n",
        "      <td>x not in y</td>\n",
        "    </tr>\n",
        "  </tbody>\n",
        "</table>\n",
        "\"\"\"\n",
        "\n",
        "display(HTML(data))\n"
      ],
      "metadata": {
        "colab": {
          "base_uri": "https://localhost:8080/",
          "height": 88
        },
        "id": "_0tqxIu8IUOX",
        "outputId": "a2cda12e-bcf7-47b5-b238-44635d8cec8b"
      },
      "execution_count": null,
      "outputs": [
        {
          "output_type": "display_data",
          "data": {
            "text/plain": [
              "<IPython.core.display.HTML object>"
            ],
            "text/html": [
              "\n",
              "<table border>\n",
              "  <thead>\n",
              "    <tr>\n",
              "      <th>Operators</th>\n",
              "      <th>Description</th>\n",
              "      <th>Example</th>\n",
              "    </tr>\n",
              "  </thead>\n",
              "  <tbody>\n",
              "    <tr>\n",
              "      <td>in</td>\n",
              "      <td>Returns True if a value exists in a sequence</td>\n",
              "      <td>x in y</td>\n",
              "    </tr>\n",
              "    <tr>\n",
              "      <td>not in</td>\n",
              "      <td>Returns True if a value does not exist in a sequence</td>\n",
              "      <td>x not in y</td>\n",
              "    </tr>\n",
              "  </tbody>\n",
              "</table>\n"
            ]
          },
          "metadata": {}
        }
      ]
    },
    {
      "cell_type": "markdown",
      "source": [
        "### 1.  in Operator\n",
        "The in operator checks if a value exists within a sequence. It returns True if the value is found, and False if it is not."
      ],
      "metadata": {
        "id": "JcXKNQxi9DiP"
      }
    },
    {
      "cell_type": "code",
      "source": [
        "# Checking for a character in a string\n",
        "print('a' in 'apple')\n",
        "\n",
        "# Checking for an item in a list\n",
        "fruits = ['apple', 'banana', 'cherry']\n",
        "print('banana' in fruits)\n",
        "\n",
        "# Checking for a key in a dictionary\n",
        "info = {'name': 'Alishba', 'age': 19}\n",
        "print('name' in info)"
      ],
      "metadata": {
        "colab": {
          "base_uri": "https://localhost:8080/"
        },
        "id": "04D_ygU29aeN",
        "outputId": "143b3430-812b-4b83-f61c-1c5f6cf57fa3"
      },
      "execution_count": null,
      "outputs": [
        {
          "output_type": "stream",
          "name": "stdout",
          "text": [
            "True\n",
            "True\n",
            "True\n"
          ]
        }
      ]
    },
    {
      "cell_type": "markdown",
      "source": [
        "### 2. not in Operator\n",
        "The not in operator is the opposite of in. It checks if a value is not present in a sequence. It returns True if the value is not found, and False if the value is present.\n",
        "\n"
      ],
      "metadata": {
        "id": "V_90FkxC9mLA"
      }
    },
    {
      "cell_type": "code",
      "source": [
        "# Checking for a character in a string\n",
        "print('z'  not in 'apple')\n",
        "\n",
        "# Checking for an item in a list\n",
        "fruits = ['apple', 'banana', 'cherry']\n",
        "print('banana' not in fruits)\n",
        "\n",
        "# Checking for a key in a dictionary\n",
        "info = {'name': 'Alishba', 'age': 19}\n",
        "print('name' not in info)"
      ],
      "metadata": {
        "colab": {
          "base_uri": "https://localhost:8080/"
        },
        "id": "Sr44Z6y19ry_",
        "outputId": "15333c81-1951-41ed-dd7a-46af896eb901"
      },
      "execution_count": null,
      "outputs": [
        {
          "output_type": "stream",
          "name": "stdout",
          "text": [
            "True\n",
            "False\n",
            "False\n"
          ]
        }
      ]
    },
    {
      "cell_type": "markdown",
      "source": [
        "# 7. Bitwise Operators:\n",
        " Bitwise operators are used to perform operations on binary representations of numbers. These operations work directly on the bits of the numbers, treating them as sequences of 0s and 1s. The common bitwise operators include AND, OR, XOR, NOT, and bit shifts (left and right)."
      ],
      "metadata": {
        "id": "Tcng1pTK-Hqt"
      }
    },
    {
      "cell_type": "code",
      "source": [
        "# prompt: give me a table which has 3 columns and  6 rows first coloumns name is Operators second columns name is Description and third columns name is Example\n",
        "\n",
        "from IPython.display import HTML, display\n",
        "\n",
        "data = \"\"\"\n",
        "<table border>\n",
        "  <thead>\n",
        "    <tr>\n",
        "      <th>Operators</th>\n",
        "      <th>Description</th>\n",
        "      <th>Example</th>\n",
        "    </tr>\n",
        "  </thead>\n",
        "  <tbody>\n",
        "    <tr>\n",
        "      <td>&</td>\n",
        "      <td>Bitwise AND</td>\n",
        "      <td>x & y</td>\n",
        "    </tr>\n",
        "    <tr>\n",
        "      <td>|</td>\n",
        "      <td>Bitwise OR</td>\n",
        "      <td>x | y</td>\n",
        "    </tr>\n",
        "    <tr>\n",
        "      <td>^</td>\n",
        "      <td>Bitwise XOR</td>\n",
        "      <td>x ^ y</td>\n",
        "    </tr>\n",
        "    <tr>\n",
        "      <td>~</td>\n",
        "      <td>Bitwise NOT</td>\n",
        "      <td>~x</td>\n",
        "    </tr>\n",
        "    <tr>\n",
        "      <td><<</td>\n",
        "      <td>Left shift</td>\n",
        "      <td>x << y</td>\n",
        "    </tr>\n",
        "    <tr>\n",
        "      <td>>></td>\n",
        "      <td>Right shift</td>\n",
        "      <td>x >> y</td>\n",
        "    </tr>\n",
        "  </tbody>\n",
        "</table>\n",
        "\"\"\"\n",
        "\n",
        "display(HTML(data))\n"
      ],
      "metadata": {
        "colab": {
          "base_uri": "https://localhost:8080/",
          "height": 179
        },
        "id": "4GULaEb-IpFi",
        "outputId": "08f9f27f-c12e-4a0e-b90b-d5299c9dc5a0"
      },
      "execution_count": null,
      "outputs": [
        {
          "output_type": "display_data",
          "data": {
            "text/plain": [
              "<IPython.core.display.HTML object>"
            ],
            "text/html": [
              "\n",
              "<table border>\n",
              "  <thead>\n",
              "    <tr>\n",
              "      <th>Operators</th>\n",
              "      <th>Description</th>\n",
              "      <th>Example</th>\n",
              "    </tr>\n",
              "  </thead>\n",
              "  <tbody>\n",
              "    <tr>\n",
              "      <td>&</td>\n",
              "      <td>Bitwise AND</td>\n",
              "      <td>x & y</td>\n",
              "    </tr>\n",
              "    <tr>\n",
              "      <td>|</td>\n",
              "      <td>Bitwise OR</td>\n",
              "      <td>x | y</td>\n",
              "    </tr>\n",
              "    <tr>\n",
              "      <td>^</td>\n",
              "      <td>Bitwise XOR</td>\n",
              "      <td>x ^ y</td>\n",
              "    </tr>\n",
              "    <tr>\n",
              "      <td>~</td>\n",
              "      <td>Bitwise NOT</td>\n",
              "      <td>~x</td>\n",
              "    </tr>\n",
              "    <tr>\n",
              "      <td><<</td>\n",
              "      <td>Left shift</td>\n",
              "      <td>x << y</td>\n",
              "    </tr>\n",
              "    <tr>\n",
              "      <td>>></td>\n",
              "      <td>Right shift</td>\n",
              "      <td>x >> y</td>\n",
              "    </tr>\n",
              "  </tbody>\n",
              "</table>\n"
            ]
          },
          "metadata": {}
        }
      ]
    },
    {
      "cell_type": "markdown",
      "source": [
        "### 1. Bitwise AND (&)\n",
        "The bitwise AND operator compares each bit of two numbers. It sets each bit to 1 if both bits at the same position are 1, otherwise sets it to 0."
      ],
      "metadata": {
        "id": "cJfz1U_7-n0X"
      }
    },
    {
      "cell_type": "code",
      "source": [
        "x = 5\n",
        "y = 3\n",
        "print(bin(x))\n",
        "print(bin(y))\n",
        "print(\"result:\",bin(x & y))"
      ],
      "metadata": {
        "colab": {
          "base_uri": "https://localhost:8080/"
        },
        "id": "SrllUwNo-5Bg",
        "outputId": "bf6190ba-560e-42f5-dae9-2377c7445aae"
      },
      "execution_count": 4,
      "outputs": [
        {
          "output_type": "stream",
          "name": "stdout",
          "text": [
            "0b101\n",
            "0b11\n",
            "result: 0b1\n"
          ]
        }
      ]
    },
    {
      "cell_type": "markdown",
      "source": [
        "### 2. Bitwise OR (|)\n",
        "The bitwise OR operator compares each bit of two numbers. It sets each bit to 1 if either of the bits is 1, otherwise sets it to 0."
      ],
      "metadata": {
        "id": "WZeOIijRAyzo"
      }
    },
    {
      "cell_type": "code",
      "source": [
        "x = 5\n",
        "y = 3\n",
        "print(bin(x))\n",
        "print(bin(y))\n",
        "print(\"result:\",bin(x | y),(x & y))"
      ],
      "metadata": {
        "colab": {
          "base_uri": "https://localhost:8080/"
        },
        "id": "-7Tc0xSXBUEd",
        "outputId": "7623df73-5842-4beb-d755-1c9ce83331df"
      },
      "execution_count": 10,
      "outputs": [
        {
          "output_type": "stream",
          "name": "stdout",
          "text": [
            "0b101\n",
            "0b11\n",
            "result: 0b111 1\n"
          ]
        }
      ]
    },
    {
      "cell_type": "markdown",
      "source": [
        "### 3. Bitwise XOR (^)\n",
        "The bitwise XOR operator compares each bit of two numbers. It sets the bit to 1 if the corresponding bits of the two numbers are different, and 0 if they are the same."
      ],
      "metadata": {
        "id": "19Iab0MDBdzY"
      }
    },
    {
      "cell_type": "code",
      "source": [
        "x = 5\n",
        "y = 3\n",
        "print(bin(x))\n",
        "print(bin(y))\n",
        "print(\"result:\",bin(x ^ y),(x ^ y))\n"
      ],
      "metadata": {
        "colab": {
          "base_uri": "https://localhost:8080/"
        },
        "id": "Gc6zdAwjBtZJ",
        "outputId": "9ebfd37b-ecd9-4d1d-a0d8-b5e502e4676e"
      },
      "execution_count": 11,
      "outputs": [
        {
          "output_type": "stream",
          "name": "stdout",
          "text": [
            "0b101\n",
            "0b11\n",
            "result: 0b110 6\n"
          ]
        }
      ]
    },
    {
      "cell_type": "markdown",
      "source": [
        "### 4. Bitwise NOT (~)\n",
        "The bitwise NOT operator inverts all the bits of a number, i.e., it changes 0s to 1s and 1s to 0s. In Python, this also involves flipping the sign of the number."
      ],
      "metadata": {
        "id": "st5gVRBcB4zt"
      }
    },
    {
      "cell_type": "code",
      "source": [
        "x = 5\n",
        "print(bin(x))\n",
        "print(\"result:\",bin(~x),(~x))"
      ],
      "metadata": {
        "colab": {
          "base_uri": "https://localhost:8080/"
        },
        "id": "z52hgbJtCY2N",
        "outputId": "778fc764-4264-4c5e-9aee-3b8e4a8d8b23"
      },
      "execution_count": 13,
      "outputs": [
        {
          "output_type": "stream",
          "name": "stdout",
          "text": [
            "0b101\n",
            "result: -0b110 -6\n"
          ]
        }
      ]
    },
    {
      "cell_type": "markdown",
      "source": [
        "### 5. Bitwise Left Shift (<<)\n",
        "The bitwise left shift operator shifts the bits of the number to the left by a specified number of positions. Zeros are filled in from the right.\n"
      ],
      "metadata": {
        "id": "Ouz12TzZCmaj"
      }
    },
    {
      "cell_type": "code",
      "source": [
        "x = 5\n",
        "print(bin(x))\n",
        "print(\"result:\",bin(x << 2),(x << 2))\n"
      ],
      "metadata": {
        "colab": {
          "base_uri": "https://localhost:8080/"
        },
        "id": "6qdvxSdzDHgg",
        "outputId": "dd72af4b-9c30-4a28-92e2-4b3e3fd5e8b3"
      },
      "execution_count": 12,
      "outputs": [
        {
          "output_type": "stream",
          "name": "stdout",
          "text": [
            "0b101\n",
            "result: 0b10100 20\n"
          ]
        }
      ]
    },
    {
      "cell_type": "markdown",
      "source": [
        "### 6. Bitwise Right Shift (>>)\n",
        "The bitwise right shift operator shifts the bits of the number to the right by a specified number of positions. Zeros are filled in from the left (for positive numbers)."
      ],
      "metadata": {
        "id": "XRR50pShDX8U"
      }
    },
    {
      "cell_type": "code",
      "source": [
        "x = 5\n",
        "print(bin(x))\n",
        "print(\"result:\",bin(x >> 2),(x >> 2))\n",
        "\n"
      ],
      "metadata": {
        "colab": {
          "base_uri": "https://localhost:8080/"
        },
        "id": "Gb01XIhrDvW0",
        "outputId": "6ef03d7d-33ab-4066-f749-2e57e769daf6"
      },
      "execution_count": 14,
      "outputs": [
        {
          "output_type": "stream",
          "name": "stdout",
          "text": [
            "0b101\n",
            "result: 0b1 1\n"
          ]
        }
      ]
    }
  ]
}